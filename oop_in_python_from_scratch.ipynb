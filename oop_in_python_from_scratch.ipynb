{
  "nbformat": 4,
  "nbformat_minor": 0,
  "metadata": {
    "colab": {
      "name": "oop in python from scratch.ipynb",
      "provenance": [],
      "collapsed_sections": [],
      "authorship_tag": "ABX9TyMrUL+nEraYxVWZGWh0LIcM",
      "include_colab_link": true
    },
    "kernelspec": {
      "display_name": "Python 3",
      "name": "python3"
    },
    "language_info": {
      "name": "python"
    }
  },
  "cells": [
    {
      "cell_type": "markdown",
      "metadata": {
        "id": "view-in-github",
        "colab_type": "text"
      },
      "source": [
        "<a href=\"https://colab.research.google.com/github/kprashant06/oop-in-python-public/blob/main/oop_in_python_from_scratch.ipynb\" target=\"_parent\"><img src=\"https://colab.research.google.com/assets/colab-badge.svg\" alt=\"Open In Colab\"/></a>"
      ]
    },
    {
      "cell_type": "code",
      "metadata": {
        "id": "iL6YYsbd92vk"
      },
      "source": [
        "import numpy as np\n",
        "import pandas as pd\n",
        "import matplotlib.pyplot as plt\n",
        "import seaborn as sns"
      ],
      "execution_count": null,
      "outputs": []
    },
    {
      "cell_type": "markdown",
      "metadata": {
        "id": "274NAAsSGNGX"
      },
      "source": [
        "#object is a instantaneousiation of a class\n",
        "\n",
        "#class is a group of all (variables/attributes)  and (function/methods)  into singal logical unit\n",
        "\n",
        " #for undertsanding comparison \n",
        " # class = datatype\n",
        "\n",
        " # object = variable"
      ]
    },
    {
      "cell_type": "code",
      "metadata": {
        "id": "_aYTtGHbHfD4"
      },
      "source": [
        "class nba:\n",
        "\n",
        "    info1=\" he is one of the best player in the league\" #info1 is a class variable shared by all objects or same for all the variables #public variable\n",
        "\n",
        "\n",
        "    def __init__(self, name,age):\n",
        "        self.name = name\n",
        "        self.age =  age\n",
        "\n",
        "    def points(self, ttpoints):  # passing the argument to the function\n",
        "        print(self.name  + \" has scored \" + str(ttpoints) + \" at the age of \" + str(self.age))\n",
        "\n",
        "    def champs(self, nchamps):\n",
        "        print(self.name + \" has \" + str(nchamps) + \" championhips\")"
      ],
      "execution_count": null,
      "outputs": []
    },
    {
      "cell_type": "code",
      "metadata": {
        "id": "IVg5K3oJHvH1"
      },
      "source": [
        "z1=nba(\"dame\",30)"
      ],
      "execution_count": null,
      "outputs": []
    },
    {
      "cell_type": "code",
      "metadata": {
        "colab": {
          "base_uri": "https://localhost:8080/",
          "height": 35
        },
        "id": "ut3au1HxH7CD",
        "outputId": "94f7ec18-a388-46f3-e552-0f27f294c27a"
      },
      "source": [
        "z1.info1"
      ],
      "execution_count": null,
      "outputs": [
        {
          "output_type": "execute_result",
          "data": {
            "application/vnd.google.colaboratory.intrinsic+json": {
              "type": "string"
            },
            "text/plain": [
              "' he is one of the best player in the league'"
            ]
          },
          "metadata": {},
          "execution_count": 11
        }
      ]
    },
    {
      "cell_type": "code",
      "metadata": {
        "colab": {
          "base_uri": "https://localhost:8080/"
        },
        "id": "nM-LdaHlILQK",
        "outputId": "83777222-ba6c-48f6-bd93-92babde45c97"
      },
      "source": [
        "z1.points(18000)"
      ],
      "execution_count": null,
      "outputs": [
        {
          "output_type": "stream",
          "name": "stdout",
          "text": [
            "dame has scored 18000 at the age of 30\n"
          ]
        }
      ]
    },
    {
      "cell_type": "code",
      "metadata": {
        "colab": {
          "base_uri": "https://localhost:8080/"
        },
        "id": "2kcObq3iISV6",
        "outputId": "603a4169-231b-4b24-fa80-2012585193d4"
      },
      "source": [
        "z1.champs(0)"
      ],
      "execution_count": null,
      "outputs": [
        {
          "output_type": "stream",
          "name": "stdout",
          "text": [
            "dame has 0 championhips\n"
          ]
        }
      ]
    },
    {
      "cell_type": "code",
      "metadata": {
        "id": "DqP1hUVcHfGq"
      },
      "source": [
        "a1= nba(\"lebron\",36)  # a1 space is created in ram #a1 is object and a1 space is created in ram \n",
        "a2= nba (\"curry\" , 32) #a2 space is created in the ram\n",
        "a3= nba (\"durant\" , 30)\n",
        "a4= nba (\"kobe\", 40)"
      ],
      "execution_count": null,
      "outputs": []
    },
    {
      "cell_type": "code",
      "metadata": {
        "colab": {
          "base_uri": "https://localhost:8080/"
        },
        "id": "CZFNpGf2YBg3",
        "outputId": "d732382a-c1c2-426d-8006-7c43d173927f"
      },
      "source": [
        "#public variable is same for all the objects\n",
        "print(a1.info1)\n",
        "print(\"******\")\n",
        "print(a2.info1)\n",
        "print(\"********\")\n",
        "print(a3.info1)\n",
        "print(\"***********\")\n",
        "print(a4.info1)"
      ],
      "execution_count": null,
      "outputs": [
        {
          "output_type": "stream",
          "text": [
            " he is one of the best player in the league\n",
            "******\n",
            " he is one of the best player in the league\n",
            "********\n",
            " he is one of the best player in the league\n",
            "***********\n",
            " he is one of the best player in the league\n"
          ],
          "name": "stdout"
        }
      ]
    },
    {
      "cell_type": "code",
      "metadata": {
        "colab": {
          "base_uri": "https://localhost:8080/"
        },
        "id": "u2jwyhXpSU45",
        "outputId": "18f54727-9194-493f-8666-19b6f320818d"
      },
      "source": [
        "print(a1.points(36000))\n",
        "print(a1.champs(4))\n",
        "print(\"************\")\n",
        "print(a2.points(23000))\n",
        "print(a2.champs(3))\n",
        "print(\"***************\")\n",
        "print(a3.points(20000))\n",
        "print(a3.champs(2))\n",
        "print(\"**********\")\n",
        "print(a4.points(32000))\n",
        "print(a4.champs(5))"
      ],
      "execution_count": null,
      "outputs": [
        {
          "output_type": "stream",
          "text": [
            "lebron has scored 36000 at the age of 36\n",
            "None\n",
            "lebron has 4 championhips\n",
            "None\n",
            "************\n",
            "curry has scored 23000 at the age of 32\n",
            "None\n",
            "curry has 3 championhips\n",
            "None\n",
            "***************\n",
            "durant has scored 20000 at the age of 30\n",
            "None\n",
            "durant has 2 championhips\n",
            "None\n",
            "**********\n",
            "kobe has scored 32000 at the age of 40\n",
            "None\n",
            "kobe has 5 championhips\n",
            "None\n"
          ],
          "name": "stdout"
        }
      ]
    },
    {
      "cell_type": "markdown",
      "metadata": {
        "id": "P4YiHBu6dJtE"
      },
      "source": [
        "#Public and private variable"
      ]
    },
    {
      "cell_type": "code",
      "metadata": {
        "id": "4iJBWX4hPJn3"
      },
      "source": [
        "# any variable which starts with __ (doublle underscore ) is private member\n",
        "class nba:\n",
        "\n",
        "    info1=\" he is one of the best player in the league\" #info1 is a class variable shared by all objects or same for all the variables #public variable\n",
        "\n",
        "    __info2= \" but he can do better than that he have that ability\"  #private variabel #this variable can be used only within class not outside of class\n",
        "\n",
        "    def __init__(self, name,age):\n",
        "        self.name = name\n",
        "        self.age =  age\n",
        "\n",
        "    def points(self, ttpoints):  # passing the argument to the function\n",
        "        print(self.name  + \" has scored \" + str(ttpoints) + \" at the age of \" + str(self.age))\n",
        "\n",
        "    def champs(self, nchamps):\n",
        "        print(self.name + \" has \" + str(nchamps) + \" championhips\")\n",
        "\n",
        "    def advice(self):\n",
        "        print(self.__info2) # __ info2 is private variable and can be used within class only if you call it from ourside of class it will give you error"
      ],
      "execution_count": null,
      "outputs": []
    },
    {
      "cell_type": "markdown",
      "metadata": {
        "id": "epwTS0JiJ3_E"
      },
      "source": [
        "#info1 is public variabel or class variable which is shared by all the objects or which is same for all the objects\n",
        "\n",
        "# __info2 private varaibel can be used only within class not outside of class"
      ]
    },
    {
      "cell_type": "code",
      "metadata": {
        "id": "wLzdlSbWK9M5"
      },
      "source": [
        ""
      ],
      "execution_count": null,
      "outputs": []
    },
    {
      "cell_type": "markdown",
      "metadata": {
        "id": "rt3N4BA4LAdT"
      },
      "source": [
        ""
      ]
    },
    {
      "cell_type": "code",
      "metadata": {
        "id": "dkSZXqClPJq_"
      },
      "source": [
        "b1=nba(\"klay\",29)"
      ],
      "execution_count": null,
      "outputs": []
    },
    {
      "cell_type": "code",
      "metadata": {
        "colab": {
          "base_uri": "https://localhost:8080/"
        },
        "id": "imGovn-reMNc",
        "outputId": "3a959841-a49c-4571-91da-3f739e699ee0"
      },
      "source": [
        "b1.advice()"
      ],
      "execution_count": null,
      "outputs": [
        {
          "output_type": "stream",
          "text": [
            " but he can do better than that he have that ability\n"
          ],
          "name": "stdout"
        }
      ]
    },
    {
      "cell_type": "code",
      "metadata": {
        "colab": {
          "base_uri": "https://localhost:8080/",
          "height": 35
        },
        "id": "tlIOdzb_PJtw",
        "outputId": "9c0832c2-b8a5-45ec-8371-c581a2176f92"
      },
      "source": [
        "b1.info1  # cause its public member"
      ],
      "execution_count": null,
      "outputs": [
        {
          "output_type": "execute_result",
          "data": {
            "application/vnd.google.colaboratory.intrinsic+json": {
              "type": "string"
            },
            "text/plain": [
              "' he is one of the best player in the league'"
            ]
          },
          "metadata": {
            "tags": []
          },
          "execution_count": 9
        }
      ]
    },
    {
      "cell_type": "code",
      "metadata": {
        "colab": {
          "base_uri": "https://localhost:8080/",
          "height": 163
        },
        "id": "zZ9di4C2PJwo",
        "outputId": "32c0987c-b014-4d9b-fb77-5fa76f72b7ec"
      },
      "source": [
        "b1.__info2  # cause its private memeber can be accessed only within class"
      ],
      "execution_count": null,
      "outputs": [
        {
          "output_type": "error",
          "ename": "AttributeError",
          "evalue": "ignored",
          "traceback": [
            "\u001b[0;31m---------------------------------------------------------------------------\u001b[0m",
            "\u001b[0;31mAttributeError\u001b[0m                            Traceback (most recent call last)",
            "\u001b[0;32m<ipython-input-10-32fbe88cf908>\u001b[0m in \u001b[0;36m<module>\u001b[0;34m()\u001b[0m\n\u001b[0;32m----> 1\u001b[0;31m \u001b[0mb1\u001b[0m\u001b[0;34m.\u001b[0m\u001b[0m__info2\u001b[0m  \u001b[0;31m# cause its private memeber can be accessed only within class\u001b[0m\u001b[0;34m\u001b[0m\u001b[0;34m\u001b[0m\u001b[0m\n\u001b[0m",
            "\u001b[0;31mAttributeError\u001b[0m: 'nba' object has no attribute '__info2'"
          ]
        }
      ]
    },
    {
      "cell_type": "markdown",
      "metadata": {
        "id": "i0PqudDbs3L8"
      },
      "source": [
        "#inheritance"
      ]
    },
    {
      "cell_type": "code",
      "metadata": {
        "id": "IZ174bJMPJzo"
      },
      "source": [
        "# any variable which starts with __ (doublle underscore ) is private member\n",
        "class nba:\n",
        "\n",
        "    info1=\" he is one of the best player in the league\" #info1 is a class variable shared by all objects or same for all the variables #public variable\n",
        "\n",
        "    __info2= \" but he can do better than that he have that ability\"  #private variabel #this variable can be used only within class not outside of class\n",
        "\n",
        "    def __init__(self, name,age, team):\n",
        "        self.name = name\n",
        "        self.age =  age\n",
        "        self.team = team\n",
        "\n",
        "    def points(self, ttpoints):  # passing the argument to the function\n",
        "        print(self.name  + \" has scored \" + str(ttpoints) + \" at the age of \" + str(self.age))\n",
        "\n",
        "    def champs(self, nchamps):\n",
        "        print(self.name + \" has \" + str(nchamps) + \" championhips\")\n",
        "\n",
        "    def advice(self): # i created this function to show how we use private member in our class\n",
        "        print(self.__info2) # __ info2 is private variable and can be used within class only if you call it from ourside of class it will give you error\n",
        "\n",
        "    def team1(self):\n",
        "        print(self.name + \" plays for \" + self.team)\n",
        "\n"
      ],
      "execution_count": null,
      "outputs": []
    },
    {
      "cell_type": "code",
      "metadata": {
        "id": "VmjJr92UPJ2p"
      },
      "source": [
        "b1=nba( \"lebron james\" , 35 , \"cleveland caviliers\")\n",
        "b2=nba(\"kevin durant\" , 29, \"oklahama city\")\n",
        "b3=nba(\"james harden\" , 31 , \"houstan rockets\")"
      ],
      "execution_count": null,
      "outputs": []
    },
    {
      "cell_type": "code",
      "metadata": {
        "colab": {
          "base_uri": "https://localhost:8080/"
        },
        "id": "HekabmQbPJ5n",
        "outputId": "48fdf950-876c-4549-8fda-faeeec76633e"
      },
      "source": [
        "print(b1.team1())\n",
        "print(\"******\")\n",
        "print(b2.team1())\n",
        "print(\"*******\")\n",
        "print(b3.team1())"
      ],
      "execution_count": null,
      "outputs": [
        {
          "output_type": "stream",
          "text": [
            "lebron james plays for cleveland caviliers\n",
            "None\n",
            "******\n",
            "kevin durant plays for oklahama city\n",
            "None\n",
            "*******\n",
            "james harden plays for houstan rockets\n",
            "None\n"
          ],
          "name": "stdout"
        }
      ]
    },
    {
      "cell_type": "code",
      "metadata": {
        "colab": {
          "base_uri": "https://localhost:8080/"
        },
        "id": "uRyoJC3cuyJF",
        "outputId": "f9b7eeed-6fd3-4190-fc09-571ba25d60c8"
      },
      "source": [
        "print(b1.info1)\n",
        "print(\"******\")\n",
        "print(b2.info1)\n",
        "print(\"******\")\n",
        "print(b3.info1)"
      ],
      "execution_count": null,
      "outputs": [
        {
          "output_type": "stream",
          "text": [
            " he is one of the best player in the league\n",
            "******\n",
            " he is one of the best player in the league\n",
            "******\n",
            " he is one of the best player in the league\n"
          ],
          "name": "stdout"
        }
      ]
    },
    {
      "cell_type": "code",
      "metadata": {
        "id": "fbigiZf6PJ8V"
      },
      "source": [
        "class nba2(nba):  # nba is base class and nba2 is derived class and here i have changed info(which is public variable) and team1 function \n",
        "#derived class can its own constructor too __init__\n",
        "    info=\"he is too fast too goood he can fly get out of my way\"\n",
        "\n",
        "\n",
        "    def team1(self):\n",
        "        print(\"he used to play for \" + self.team + \" and if you dont like that you dont like nba basketball\")\n"
      ],
      "execution_count": null,
      "outputs": []
    },
    {
      "cell_type": "code",
      "metadata": {
        "id": "qVNTNZSDPJ_Z"
      },
      "source": [
        "c1=nba2( \"lebron james\" , 35 , \"cleveland caviliers\")\n",
        "c2=nba2(\"kevin durant\" , 29, \"oklahama city\")\n",
        "c3= nba2(\"james harden\" , 31 , \"houstan rockets\")"
      ],
      "execution_count": null,
      "outputs": []
    },
    {
      "cell_type": "code",
      "metadata": {
        "colab": {
          "base_uri": "https://localhost:8080/"
        },
        "id": "3RcQ4xswPKCJ",
        "outputId": "46a0a202-9d00-4be1-fd9d-21300c2d4d90"
      },
      "source": [
        "# see the function as changed according to derived class\n",
        "print(c1.team1())\n",
        "print(\"******\")\n",
        "print(c2.team1())\n",
        "print(\"******\")\n",
        "print(c3.team1())"
      ],
      "execution_count": null,
      "outputs": [
        {
          "output_type": "stream",
          "text": [
            "he used to play for cleveland caviliers and if you dont like that you dont like nba basketball\n",
            "None\n",
            "******\n",
            "he used to play for oklahama city and if you dont like that you dont like nba basketball\n",
            "None\n",
            "******\n",
            "he used to play for houstan rockets and if you dont like that you dont like nba basketball\n",
            "None\n"
          ],
          "name": "stdout"
        }
      ]
    },
    {
      "cell_type": "code",
      "metadata": {
        "colab": {
          "base_uri": "https://localhost:8080/"
        },
        "id": "Ra5QSXlsPKFZ",
        "outputId": "a286bb36-8dbf-492e-e766-49df541174cb"
      },
      "source": [
        "# see info has changed according to derived class\n",
        "print(c1.info)\n",
        "print(\"***********\")\n",
        "print(c2.info)\n",
        "print(\"***********\")\n",
        "print(c3.info)"
      ],
      "execution_count": null,
      "outputs": [
        {
          "output_type": "stream",
          "text": [
            "he is too fast too goood he can fly get out of my way\n",
            "*********\n",
            "he is too fast too goood he can fly get out of my way\n",
            "******\n",
            "he is too fast too goood he can fly get out of my way\n"
          ],
          "name": "stdout"
        }
      ]
    },
    {
      "cell_type": "markdown",
      "metadata": {
        "id": "dj0pkteEUpWV"
      },
      "source": [
        "#super() function in python"
      ]
    },
    {
      "cell_type": "markdown",
      "metadata": {
        "id": "J_9wvXFWVHrG"
      },
      "source": [
        "One of the important OOP features is Inheritance in Python. When a class inherits some or all of the behaviors from another class is known as Inheritance. In such a case, the inherited class is the subclass and the latter class is the parent class. \n",
        "In an inherited subclass, a parent class can be referred to with the use of the super() function. The super function returns a temporary object of the superclass that allows access to all of its methods to its child class.\n",
        "\n",
        "Note: For more information, refer to Inheritance in Python\n",
        "\n",
        "Furthermore, The benefits of using a super function are:-  \n",
        "\n",
        "Need not remember or specify the parent class name to access its methods. This function can be used both in single and multiple inheritances.\n",
        "This implements modularity (isolating changes) and code reusability as there is no need to rewrite the entire function.\n",
        "Super function in Python is called dynamically because Python is a dynamic language unlike other languages.\n",
        "There are 3 constraints to use the super function:-  \n",
        "\n",
        "The class and its methods which are referred by the super function\n",
        "The arguments of the super function and the called function should match.\n",
        "Every occurrence of the method must include super() after you use it.\n",
        "Super function in single inheritance "
      ]
    },
    {
      "cell_type": "markdown",
      "metadata": {
        "id": "qcWEQ1flVK2L"
      },
      "source": [
        "Example: Let’s take an example of animals. Dogs, cats and cows are part of animals. They also share common characteristics like –  \n",
        "\n",
        "They are mammals.\n",
        "They have a tail and four legs.\n",
        "They are domestic animals.\n",
        "So, the classes dogs, cats and horses are subclass of animal class. This is an example of single inheritance because many subclass are inherited from a single parent class."
      ]
    },
    {
      "cell_type": "code",
      "metadata": {
        "id": "TdZeXY6gU9d_"
      },
      "source": [
        "# Python program to demonstrate\n",
        "# super function\n",
        "\n",
        "\n",
        "class Animals:\n",
        "\t\n",
        "\t# Initializing constructor\n",
        "\tdef __init__(self):\n",
        "\t\tself.legs = 4\n",
        "\t\tself.domestic = True\n",
        "\t\tself.tail = True\n",
        "\t\tself.mammals = True\n",
        "\t\n",
        "\tdef isMammal(self):\n",
        "\t\tif self.mammals:\n",
        "\t\t\tprint(\"It is a mammal.\")\n",
        "\t\n",
        "\tdef isDomestic(self):\n",
        "\t\tif self.domestic:\n",
        "\t\t\tprint(\"It is a domestic animal.\")"
      ],
      "execution_count": null,
      "outputs": []
    },
    {
      "cell_type": "code",
      "metadata": {
        "id": "BOA2ozgzPKIh"
      },
      "source": [
        "class Dogs(Animals):\n",
        "\tdef __init__(self):\n",
        "\t\tsuper().__init__()\n",
        "\n",
        "\tdef isMammal(self):\n",
        "\t\tsuper().isMammal()\n",
        "\n",
        "class Horses(Animals):\n",
        "\tdef __init__(self):\n",
        "\t\tsuper().__init__()\n",
        "\n",
        "\tdef hasTailandLegs(self):\n",
        "\t\tif self.tail and self.legs == 4:\n",
        "\t\t\tprint(\"Has legs and tail\")"
      ],
      "execution_count": null,
      "outputs": []
    },
    {
      "cell_type": "code",
      "metadata": {
        "id": "ha8tBbUCPKLo"
      },
      "source": [
        "# Driver code\n",
        "Tom = Dogs() #calling class"
      ],
      "execution_count": null,
      "outputs": []
    },
    {
      "cell_type": "code",
      "metadata": {
        "colab": {
          "base_uri": "https://localhost:8080/"
        },
        "id": "j7L-q1k6PKOk",
        "outputId": "fae47a63-5c51-4ea7-9090-dddfb742fd3c"
      },
      "source": [
        "Tom.isMammal()"
      ],
      "execution_count": null,
      "outputs": [
        {
          "output_type": "stream",
          "text": [
            "It is a mammal.\n"
          ],
          "name": "stdout"
        }
      ]
    },
    {
      "cell_type": "code",
      "metadata": {
        "id": "2NPrtU0VPKRc"
      },
      "source": [
        "Bruno = Horses()"
      ],
      "execution_count": null,
      "outputs": []
    },
    {
      "cell_type": "code",
      "metadata": {
        "colab": {
          "base_uri": "https://localhost:8080/"
        },
        "id": "NgZTCFhUPKUH",
        "outputId": "6074626c-5ed9-4965-8bb8-9bf703d56be3"
      },
      "source": [
        "Bruno.hasTailandLegs()"
      ],
      "execution_count": null,
      "outputs": [
        {
          "output_type": "stream",
          "text": [
            "Has legs and tail\n"
          ],
          "name": "stdout"
        }
      ]
    },
    {
      "cell_type": "markdown",
      "metadata": {
        "id": "sfO4idGyKz5w"
      },
      "source": [
        "#embedding layer in deep learning keras"
      ]
    },
    {
      "cell_type": "code",
      "metadata": {
        "id": "8f280Vk4KzDh"
      },
      "source": [
        ""
      ],
      "execution_count": null,
      "outputs": []
    },
    {
      "cell_type": "code",
      "metadata": {
        "id": "vyRC2eoLKzTr"
      },
      "source": [
        ""
      ],
      "execution_count": null,
      "outputs": []
    },
    {
      "cell_type": "code",
      "metadata": {
        "id": "pXg3iEWKKzWv"
      },
      "source": [
        ""
      ],
      "execution_count": null,
      "outputs": []
    }
  ]
}